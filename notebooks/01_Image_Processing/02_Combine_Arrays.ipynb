{
 "cells": [
  {
   "cell_type": "markdown",
   "metadata": {},
   "source": [
    "# Array Combine\n",
    "\n",
    "This will take all the separate image and target arrays for each directory of images and combine them into one array."
   ]
  },
  {
   "cell_type": "code",
   "execution_count": null,
   "metadata": {},
   "outputs": [],
   "source": [
    "import numpy as np\n",
    "import pandas as pd"
   ]
  },
  {
   "cell_type": "code",
   "execution_count": null,
   "metadata": {},
   "outputs": [],
   "source": [
    "# Constants\n",
    "\n",
    "# List of directory names\n",
    "directory_list = ['background','bicycle','bus','car',\n",
    "                  'motorcycle','non-motorized_vehicle','pedestrian',\n",
    "                  'pickup_truck','single_unit_truck','work_van']\n",
    "\n",
    "mapping_dict = {\n",
    "        'articulated_truck' : 0,\n",
    "        'background' : 1,\n",
    "        'bicycle' : 2,\n",
    "        'bus' : 3,\n",
    "        'car' : 4,\n",
    "        'motorcycle' : 5,\n",
    "        'non-motorized_vehicle' : 6,\n",
    "        'pedestrian' : 7,\n",
    "        'pickup_truck' : 8,\n",
    "        'single_unit_truck' : 9,\n",
    "        'work_van' : 10\n",
    "    }\n",
    "\n",
    "width = 28\n",
    "height = 28\n",
    "length = width * height\n",
    "\n",
    "# save file name. If you needed a comment to figure this one out, go lie down and put a wet towel on your head\n",
    "img_save_file = ('../../data/imagefilefull')\n",
    "target_save_file = ('../../data/targetfilefull')"
   ]
  },
  {
   "cell_type": "code",
   "execution_count": null,
   "metadata": {},
   "outputs": [],
   "source": [
    "# Get the first directory and initialize the arrays with that data\n",
    "data_dir = '../../data/'\n",
    "base = 'articulated_truck'\n",
    "image_name = data_dir + base + 'data.npy'\n",
    "target_name = data_dir +  base + 'target.npy'\n",
    "\n",
    "\n",
    "# Create X and y\n",
    "X = np.load(image_name)\n",
    "y = np.load(target_name)"
   ]
  },
  {
   "cell_type": "code",
   "execution_count": null,
   "metadata": {},
   "outputs": [],
   "source": [
    "y"
   ]
  },
  {
   "cell_type": "code",
   "execution_count": null,
   "metadata": {},
   "outputs": [],
   "source": [
    "# Step through the remaining directories, building the image and target arrays\n",
    "\n",
    "for img_dir in directory_list:\n",
    "    image_name = data_dir + img_dir + 'data.npy'\n",
    "    target_name = data_dir +  img_dir + 'target.npy'\n",
    "    \n",
    "    X_new = np.load(image_name)\n",
    "    y_new = np.load(target_name)\n",
    "    \n",
    "    X = np.vstack((X,X_new))\n",
    "    y = np.hstack((y, y_new))\n",
    "    \n",
    "print(X.shape)\n",
    "print(y.shape)\n",
    "    "
   ]
  },
  {
   "cell_type": "code",
   "execution_count": null,
   "metadata": {},
   "outputs": [],
   "source": [
    "# Write them to disk\n",
    "np.save(img_save_file, X)\n",
    "np.save(target_save_file, y)"
   ]
  }
 ],
 "metadata": {
  "kernelspec": {
   "display_name": "Python 3",
   "language": "python",
   "name": "python3"
  },
  "language_info": {
   "codemirror_mode": {
    "name": "ipython",
    "version": 3
   },
   "file_extension": ".py",
   "mimetype": "text/x-python",
   "name": "python",
   "nbconvert_exporter": "python",
   "pygments_lexer": "ipython3",
   "version": "3.7.2"
  }
 },
 "nbformat": 4,
 "nbformat_minor": 2
}
